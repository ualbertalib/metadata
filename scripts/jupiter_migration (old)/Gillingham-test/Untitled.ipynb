{
 "cells": [
  {
   "cell_type": "code",
   "execution_count": 1,
   "metadata": {
    "collapsed": true
   },
   "outputs": [],
   "source": [
    "from SPARQLWrapper import JSON, SPARQLWrapper\n",
    "import json\n",
    "import requests\n",
    "sparql_mig_dev = SPARQLWrapper(\"http://sheff.library.ualberta.ca:9999/blazegraph/namespace/gillingham/sparql\")"
   ]
  },
  {
   "cell_type": "code",
   "execution_count": 2,
   "metadata": {},
   "outputs": [],
   "source": [
    "def main():\n",
    "    for predicate in ['dcterm:identifier', 'dcterm:language', 'dcterm:type', 'dcterm:license', 'dcterm:rights','bibo:ThesisDegree','info:hasModel']:\n",
    "        Q=Query(predicate)\n",
    "        sparql_mig_dev.setMethod(\"POST\")\n",
    "        query=Q.getQ()\n",
    "        sparql_mig_dev.setReturnFormat(JSON)\n",
    "        sparql_mig_dev.setQuery(query)\n",
    "        results = sparql_mig_dev.query().convert()\n",
    "        with open(predicate, 'w+') as file:\n",
    "            for result in results['results']['bindings']:\n",
    "                file.write (str(result['o']['value']))\n",
    "                file.write ('\\t')\n",
    "                file.write (str(result['sam']['value']))\n",
    "                file.write ('\\n')\n",
    "            #json.dump(results, p, sort_keys=True, indent=4)\n",
    "        "
   ]
  },
  {
   "cell_type": "code",
   "execution_count": 3,
   "metadata": {},
   "outputs": [],
   "source": [
    "class Query(object):\n",
    "    def __init__(self, predicate):\n",
    "        self.predicate = predicate\n",
    "        \n",
    "    def getQ(self):\n",
    "        return (\"prefix info: <info:fedora/fedora-system:def/model#> prefix bibo: <http://purl.org/ontology/bibo/> prefix dcterm: <http://purl.org/dc/terms/> prefix xsd: <http://www.w3.org/2001/XMLSchema#> SELECT ?o (count(?s) as ?sam) WHERE { ?s %s ?o.} GROUP BY ?o\" % (self.predicate))\n",
    "        #print (\"select ?resource where { ?resource <info:fedora/fedora-system:def/model#hasModel> %s}\" % (self.ptype))"
   ]
  },
  {
   "cell_type": "code",
   "execution_count": 4,
   "metadata": {},
   "outputs": [],
   "source": [
    "if __name__ == \"__main__\":\n",
    "\tmain()"
   ]
  },
  {
   "cell_type": "code",
   "execution_count": null,
   "metadata": {
    "collapsed": true
   },
   "outputs": [],
   "source": []
  }
 ],
 "metadata": {
  "kernelspec": {
   "display_name": "Python 3",
   "language": "python",
   "name": "python3"
  },
  "language_info": {
   "codemirror_mode": {
    "name": "ipython",
    "version": 3
   },
   "file_extension": ".py",
   "mimetype": "text/x-python",
   "name": "python",
   "nbconvert_exporter": "python",
   "pygments_lexer": "ipython3",
   "version": "3.6.2"
  }
 },
 "nbformat": 4,
 "nbformat_minor": 2
}
