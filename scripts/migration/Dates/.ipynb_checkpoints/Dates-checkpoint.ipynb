{
 "cells": [
  {
   "cell_type": "code",
   "execution_count": null,
   "metadata": {
    "collapsed": true
   },
   "outputs": [],
   "source": [
    "from config import sparqlTerms, mig_ns, sparql_mig_test, sparql_mig_simple, sparql_mig_dev\n",
    "from SPARQLWrapper import JSON, SPARQLWrapper\n",
    "import re, os, json, requests"
   ]
  },
  {
   "cell_type": "code",
   "execution_count": null,
   "metadata": {
    "collapsed": true
   },
   "outputs": [],
   "source": [
    "class Query:\n",
    "    def __init__(self, strlen, delim):\n",
    "        self.len = strlen\n",
    "        self.delim = delim\n",
    "        self.sparql = SPARQLWrapper(sparql_mig_dev)\n",
    "        \n",
    "\n",
    "    def getTypebyLen(self):\n",
    "        self.sparql.setMethod(\"POST\")\n",
    "        self.sparql.setReturnFormat(JSON)\n",
    "        self.out = []\n",
    "        query = \"prefix dcterm: <http://purl.org/dc/terms/> prefix info: <info:fedora/fedora-system:def/model#> prefix xsd: <http://www.w3.org/2001/XMLSchema#> SELECT ?type (count(?type) as ?count) (sample(?s) as ?resource) where {?s dcterm:type ?type {select ?s ?value WHERE {?s dcterm:created ?value. filter(contains(str(?value), str('%s')) && STRLEN(str(?value)) = %s)}}} Group by ?type\" % (self.delim, self.len)\n",
    "        self.sparql.setQuery(query)\n",
    "        r  = self.sparql.query().convert()['results']['bindings']\n",
    "        for triple in r:\n",
    "            if triple['type']['value'] != '':\n",
    "                self.out.append(triple['type']['value'] + \" \\t \" + triple['count']['value'] + \"\\t\" + triple['resource']['value'] + \"\\n\") \n",
    "                \n",
    "    def getDateLen(self):\n",
    "        self.sparql.setMethod(\"POST\")\n",
    "        self.sparql.setReturnFormat(JSON)\n",
    "        self.out = []\n",
    "        query = \"prefix dcterm: <http://purl.org/dc/terms/> prefix info: <info:fedora/fedora-system:def/model#> prefix xsd: <http://www.w3.org/2001/XMLSchema#> SELECT ?value (count(?value) as ?count) (sample(?s) as ?resource) WHERE {?s dcterm:created ?value. filter(contains(str(?value), str('%s')) && (STRLEN(str(?value)) = %s))} GROUP BY ?value\" % (self.delim, self.len)\n",
    "        self.sparql.setQuery(query)\n",
    "        r  = self.sparql.query().convert()['results']['bindings']\n",
    "        for triple in r:\n",
    "            if triple['value']['value'] != '':\n",
    "                self.out.append(triple['value']['value'] + \" \\t \" + triple['count']['value'] + \"\\t\" + triple['resource']['value'] + \"\\n\")    \n",
    "                \n",
    "    def SampleDateLen(self):\n",
    "        self.sparql.setMethod(\"POST\")\n",
    "        self.sparql.setReturnFormat(JSON)\n",
    "        self.out = []\n",
    "        query = \"prefix dcterm: <http://purl.org/dc/terms/> prefix info: <info:fedora/fedora-system:def/model#> prefix xsd: <http://www.w3.org/2001/XMLSchema#> SELECT ?value ?resource WHERE {?resource dcterm:created ?value. filter(contains(str(?value), str('%s')) && (STRLEN(str(?value)) = %s))} LIMIT 1\" % (self.delim, self.len)\n",
    "        self.sparql.setQuery(query)\n",
    "        r  = self.sparql.query().convert()['results']['bindings']\n",
    "        for triple in r:\n",
    "            if triple['value']['value'] != '':\n",
    "                self.out.append(triple['value']['value'] + \" \\t \" + triple['resource']['value'] + \"\\n\")    "
   ]
  },
  {
   "cell_type": "code",
   "execution_count": null,
   "metadata": {
    "collapsed": true,
    "scrolled": false
   },
   "outputs": [],
   "source": [
    "def main():\n",
    "    for i in range(1, 31):\n",
    "        for j in [\";\", \":\", \"-\", \"/\", \".\", \",\", \" \"]:\n",
    "            dat = Query(i, j)\n",
    "            with open(\"Dates/len \" + str(i) + \" dates.tsv\" , \"a\") as file:\n",
    "                print (\"len is: \" + str(i), \"Delimiter is: \" + str(j))\n",
    "                dd = dat.getDateLen()\n",
    "                file.writelines(j + \"\\n\")\n",
    "                file.writelines(dat.out)\n",
    "                file.writelines(\"-----------------------------------------------------------\" + \"\\n\")\n",
    "            with open(\"Types/len \" + str(i) + \" types.tsv\" , \"a\") as file:\n",
    "                print (\"len is: \" + str(i), \"Delimiter is: \" + str(j))\n",
    "                dd = dat.getTypebyLen()\n",
    "                file.writelines(j + \"\\n\")\n",
    "                file.writelines(dat.out)\n",
    "                file.writelines(\"-----------------------------------------------------------\" + \"\\n\")\n",
    "            with open(\"Sample/len \" + str(i) + \" sample.tsv\" , \"a\") as file:\n",
    "                print (\"len is: \" + str(i), \"Delimiter is: \" + str(j))\n",
    "                dd = dat.SampleDateLen()\n",
    "                file.writelines(j + \"\\n\")\n",
    "                file.writelines(dat.out)\n",
    "                file.writelines(\"-----------------------------------------------------------\" + \"\\n\")"
   ]
  },
  {
   "cell_type": "code",
   "execution_count": null,
   "metadata": {
    "scrolled": true
   },
   "outputs": [],
   "source": [
    "if __name__ == \"__main__\":\n",
    "\tmain()"
   ]
  },
  {
   "cell_type": "code",
   "execution_count": null,
   "metadata": {
    "collapsed": true
   },
   "outputs": [],
   "source": [
    "sparql = SPARQLWrapper(sparql_mig_dev)\n",
    "sparql.setMethod(\"POST\")\n",
    "sparql.setReturnFormat(JSON)\n",
    "sparql.setQuery('prefix dcterm: <http://purl.org/dc/terms/> prefix info: <info:fedora/fedora-system:def/model#> prefix xsd: <http://www.w3.org/2001/XMLSchema#> SELECT ?s ?value WHERE {?s dcterm:created ?value.}')\n",
    "r  = sparql.query().convert()['results']['bindings']\n",
    "for triple in r:\n",
    "    if triple['value']['value'] != '':\n",
    "        year = triple['value']['value']\n",
    "        delim = [\"-\",\n",
    "                 \"/\",\n",
    "                \":\",\n",
    "                \";\"]\n",
    "        for delim1 in delim:\n",
    "            if delim1 in triple['value']['value']:\n",
    "                data = triple['value']['value'].split(delim1)\n",
    "                if len(data) == 2:\n",
    "                    data.extend([\"01\"])\n",
    "                elif len(data) == 1:\n",
    "    lowB = 6\n",
    "highB = 12                data.extend([\"01\", \"01\"])\n",
    "                year = data[0]\n",
    "                month = data[1]\n",
    "                day = data[2]\n",
    "        print (year)"
   ]
  },
  {
   "cell_type": "code",
   "execution_count": null,
   "metadata": {},
   "outputs": [],
   "source": [
    "sparql = SPARQLWrapper(sparql_mig_dev)\n",
    "sparql.setMethod(\"POST\")\n",
    "sparql.setReturnFormat(JSON)\n",
    "for i in [\";\", \":\", \"-\", \"/\", \".\", \",\", \" \"]:\n",
    "    query = \"prefix dcterm: <http://purl.org/dc/terms/> prefix info: <info:fedora/fedora-system:def/model#> prefix xsd: <http://www.w3.org/2001/XMLSchema#> SELECT (count(?s) as ?count) WHERE {?s dcterm:created ?value. filter(contains(str(?value),  str('%s')))}\" % (i)\n",
    "    sparql.setQuery(query)\n",
    "    r  = sparql.query().convert()['results']['bindings']\n",
    "    for triple in r:\n",
    "        if triple['count']['value'] != '':\n",
    "            print (triple['count']['value'])"
   ]
  },
  {
   "cell_type": "code",
   "execution_count": 1,
   "metadata": {},
   "outputs": [
    {
     "ename": "ImportError",
     "evalue": "No module named 'nltk'",
     "output_type": "error",
     "traceback": [
      "\u001b[0;31m---------------------------------------------------------------------------\u001b[0m",
      "\u001b[0;31mImportError\u001b[0m                               Traceback (most recent call last)",
      "\u001b[0;32m<ipython-input-1-dfc5f4dcff6c>\u001b[0m in \u001b[0;36m<module>\u001b[0;34m()\u001b[0m\n\u001b[0;32m----> 1\u001b[0;31m \u001b[0;32mimport\u001b[0m \u001b[0mnltk\u001b[0m\u001b[0;34m\u001b[0m\u001b[0m\n\u001b[0m\u001b[1;32m      2\u001b[0m \u001b[0;32mfrom\u001b[0m \u001b[0mnltk\u001b[0m \u001b[0;32mimport\u001b[0m \u001b[0mword_tokenize\u001b[0m\u001b[0;34m\u001b[0m\u001b[0m\n\u001b[1;32m      3\u001b[0m \u001b[0mnltk\u001b[0m\u001b[0;34m.\u001b[0m\u001b[0mdownload\u001b[0m\u001b[0;34m(\u001b[0m\u001b[0;34m'punkt'\u001b[0m\u001b[0;34m)\u001b[0m\u001b[0;34m\u001b[0m\u001b[0m\n",
      "\u001b[0;31mImportError\u001b[0m: No module named 'nltk'"
     ]
    }
   ],
   "source": [
    "import nltk\n",
    "from nltk import word_tokenize\n",
    "nltk.download('punkt')"
   ]
  },
  {
   "cell_type": "code",
   "execution_count": null,
   "metadata": {
    "collapsed": true
   },
   "outputs": [],
   "source": []
  }
 ],
 "metadata": {
  "kernelspec": {
   "display_name": "Python 3",
   "language": "python",
   "name": "python3"
  },
  "language_info": {
   "codemirror_mode": {
    "name": "ipython",
    "version": 3
   },
   "file_extension": ".py",
   "mimetype": "text/x-python",
   "name": "python",
   "nbconvert_exporter": "python",
   "pygments_lexer": "ipython3",
   "version": "3.5.2"
  }
 },
 "nbformat": 4,
 "nbformat_minor": 2
}
