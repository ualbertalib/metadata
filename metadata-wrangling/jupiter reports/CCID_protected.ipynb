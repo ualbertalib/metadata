{
 "cells": [
  {
   "cell_type": "code",
   "execution_count": 2,
   "metadata": {
    "collapsed": true
   },
   "outputs": [],
   "source": [
    "from config import sparqlTerms, mig_ns, sparqlData, dates\n",
    "from Titles import date_from_title\n",
    "from SPARQLWrapper import JSON, SPARQLWrapper\n",
    "import re, os, json, requests"
   ]
  },
  {
   "cell_type": "code",
   "execution_count": null,
   "metadata": {
    "collapsed": true
   },
   "outputs": [],
   "source": [
    "sparql = SPARQLWrapper(sparqlData)\n",
    "sparql.setMethod(\"POST\")\n",
    "sparql.setReturnFormat(JSON)\n",
    "query = \"select ?s ?o ?agent ?col ?comm where {?s <http://www.w3.org/ns/auth/acl#agent> ?agent . ?s <http://www.w3.org/ns/auth/acl#mode> <http://www.w3.org/ns/auth/acl#Read>. ?s <http://www.w3.org/ns/auth/acl#accessTo> ?o . optional {?o <http://terms.library.ualberta.ca/identifiers/hasCollection> ?col} . optional {?o <http://terms.library.ualberta.ca/identifiers/belongsToCommunity> ?comm } . filter(?agent != <http://projecthydra.org/ns/auth/group#public>)}\"\n",
    "sparql.setQuery(query)\n",
    "r  = sparql.query().convert()['results']['bindings']\n",
    "for triple in r:\n",
    "    print (r)\n",
    "#with open('CCID.tsv', 'w+') as p:\n",
    " #   p.write(\"Resource\" + \" \\t \" + \"Community\" + \" \\t \" + \"Colletion\" + \" \\t \" + \"Agent\" + \" \\t \" + \"Permission Object\" + \"\\n\")\n",
    "  #  for triple in r:\n",
    "   #     p.write(triple['o']['value'] + \" \\t \" + triple['comm']['value'] + \" \\t \" + triple['col']['value'] + \" \\t \" + triple['agent']['value'] + \" \\t \" + triple['s']['value'] + \"\\n\")\n",
    "print (\"done\")    "
   ]
  },
  {
   "cell_type": "code",
   "execution_count": null,
   "metadata": {
    "collapsed": true
   },
   "outputs": [],
   "source": [
    "#PRIVATE ITEMS"
   ]
  },
  {
   "cell_type": "code",
   "execution_count": 24,
   "metadata": {},
   "outputs": [
    {
     "name": "stdout",
     "output_type": "stream",
     "text": [
      "done\n"
     ]
    }
   ],
   "source": [
    "sparql = SPARQLWrapper(sparqlData)\n",
    "sparql.setMethod(\"POST\")\n",
    "sparql.setReturnFormat(JSON)\n",
    "query = \"prefix xsd: <http://www.w3.org/2001/XMLSchema#> prefix dcterm: <http://purl.org/dc/terms/> select ?s ?o ?agent ?col ?comm where {?s <http://www.w3.org/ns/auth/acl#agent> ?agent . ?s <http://www.w3.org/ns/auth/acl#mode> <http://www.w3.org/ns/auth/acl#Read>. ?s <http://www.w3.org/ns/auth/acl#accessTo> ?o . optional {?o <http://terms.library.ualberta.ca/identifiers/hasCollection> ?col} . optional {?o <http://terms.library.ualberta.ca/identifiers/belongsToCommunity> ?comm} . filter(?agent != <http://projecthydra.org/ns/auth/group#public>)}\"\n",
    "sparql.setQuery(query)\n",
    "r  = sparql.query().convert()['results']['bindings']\n",
    "with open('CCID_4.tsv', 'w+') as p:\n",
    "    p.write(\"Resource\" + \" \\t \" + \"Agent\" + \" \\t \" + \"CommunityID\" + \" \\t \"  + \"Community Title\" + \" \\t \"  + \"Collection\" + \" \\t \" + \"Permission Object\" + \"\\n\")\n",
    "    for triple in r:\n",
    "        if \"comm\" in triple.keys() and \"col\" in triple.keys():\n",
    "            comm = triple['comm']['value']\n",
    "            subject = \"http://gillingham.library.ualberta.ca:8080/fedora/rest/prod/{}/{}/{}/{}/{}\".format(comm[0:2], comm[2:4], comm[4:6], comm[6:8], comm)\n",
    "            query = \"prefix xsd: <http://www.w3.org/2001/XMLSchema#> prefix dcterm: <http://purl.org/dc/terms/> select ?title where {<%s> <http://fedora.info/definitions/v4/repository#hasParent> ?par . optional{<%s> dcterm:title ?title}}\" % (subject, subject)\n",
    "            sparql.setQuery(query)\n",
    "            re  = sparql.query().convert()['results']['bindings']\n",
    "            for tri in re:\n",
    "                if \"title\" in tri.keys():\n",
    "                    p.write(triple['o']['value'] + \" \\t \" + triple['agent']['value'] + \" \\t \" + triple['comm']['value'] + \" \\t \" + tri[\"title\"][\"value\"] + \" \\t \" + triple['col']['value'] + \" \\t \" + triple['s']['value'] + \"\\n\")\n",
    "                else:\n",
    "                    p.write(triple['o']['value'] + \" \\t \" + triple['agent']['value'] + \" \\t \" + triple['comm']['value'] + \" \\t \" + \"No title for the community was found\" + \" \\t \" + triple['col']['value'] + \" \\t \" + triple['s']['value'] + \"\\n\")\n",
    "        elif \"comm\" in triple.keys() and \"col\" not in triple.keys():\n",
    "            comm = triple['comm']['value']\n",
    "            subject = \"http://gillingham.library.ualberta.ca:8080/fedora/rest/prod/{}/{}/{}/{}/{}\".format(comm[0:2], comm[2:4], comm[4:6], comm[6:8], comm)\n",
    "            query = \"prefix xsd: <http://www.w3.org/2001/XMLSchema#> prefix dcterm: <http://purl.org/dc/terms/> select ?title where {<%s> <http://fedora.info/definitions/v4/repository#hasParent> ?par . optional{<%s> dcterm:title ?title}}\" % (subject, subject)\n",
    "            sparql.setQuery(query)\n",
    "            re  = sparql.query().convert()['results']['bindings']\n",
    "            for tri in re:\n",
    "                if \"title\" in tri.keys():\n",
    "                    p.write(triple['o']['value'] + \" \\t \" + triple['agent']['value'] + \" \\t \" + triple['comm']['value'] + \" \\t \" + tri[\"title\"][\"value\"] + \" \\t \" + \"No Collection\" + \" \\t \" + triple['s']['value'] + \"\\n\")\n",
    "                else:\n",
    "                    p.write(triple['o']['value'] + \" \\t \" + triple['agent']['value'] + \" \\t \" + triple['comm']['value'] + \" \\t \" + \"No title for the community was found\" + \" \\t \" + \"No Collection\" + \" \\t \" + triple['s']['value'] + \"\\n\")\n",
    "        elif \"comm\" not in triple.keys() and \"col\" not in triple.keys():\n",
    "            p.write(triple['o']['value'] + \" \\t \" + triple['agent']['value'] + \" \\t \" + \"Item has no community\" + \" \\t \" + \"No title for the community was found\" + \" \\t \" + \"No Collection\" + \" \\t \" + triple['s']['value'] + \"\\n\")\n",
    "print (\"done\") "
   ]
  },
  {
   "cell_type": "code",
   "execution_count": 34,
   "metadata": {},
   "outputs": [
    {
     "name": "stdout",
     "output_type": "stream",
     "text": [
      "done\n"
     ]
    }
   ],
   "source": [
    "o = []\n",
    "t = []\n",
    "with open(\"1.txt\", \"r\") as one:\n",
    "    for line in one:\n",
    "        line = line.replace(\"\\n\", \"\")\n",
    "        if line not in o:\n",
    "            o.append(line)\n",
    "with open(\"2.txt\", \"r\") as two:\n",
    "    for lin in two:\n",
    "        lin = lin.replace(\"\\n\", \"\")\n",
    "        if lin not in o:\n",
    "            t.append(lin)\n",
    "for i in t:\n",
    "    query = \"prefix xsd: <http://www.w3.org/2001/XMLSchema#> prefix dcterm: <http://purl.org/dc/terms/> select ?comm ?col where {<%s> <http://terms.library.library.ca/identifiers/belongsToCommunity> ?comm . <%s> <http://terms.library.library.ca/identifiers/hasCollection> ?col}\" % (i, i)\n",
    "    sparql.setQuery(query)\n",
    "    re  = sparql.query().convert()['results']['bindings']\n",
    "    with open(\"diff.tsv\", \"a\") as out:\n",
    "        for tri in re:\n",
    "             out.write(i + \"\\t\" + tri['comm']['value'] + \"\\t\" + tri['col']['value'] + \"\\n\")\n",
    "print (\"done\")"
   ]
  },
  {
   "cell_type": "code",
   "execution_count": null,
   "metadata": {
    "collapsed": true
   },
   "outputs": [],
   "source": []
  }
 ],
 "metadata": {
  "kernelspec": {
   "display_name": "Python 3",
   "language": "python",
   "name": "python3"
  },
  "language_info": {
   "codemirror_mode": {
    "name": "ipython",
    "version": 3
   },
   "file_extension": ".py",
   "mimetype": "text/x-python",
   "name": "python",
   "nbconvert_exporter": "python",
   "pygments_lexer": "ipython3",
   "version": "3.6.2"
  }
 },
 "nbformat": 4,
 "nbformat_minor": 2
}
